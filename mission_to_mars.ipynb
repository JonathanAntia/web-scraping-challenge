{
 "cells": [
  {
   "cell_type": "markdown",
   "metadata": {},
   "source": [
    "# Web Scraping"
   ]
  },
  {
   "cell_type": "code",
   "execution_count": 1,
   "metadata": {},
   "outputs": [],
   "source": [
    "import pandas as pd\n",
    "from bs4 import BeautifulSoup as bs\n",
    "from splinter import Browser"
   ]
  },
  {
   "cell_type": "code",
   "execution_count": 2,
   "metadata": {},
   "outputs": [],
   "source": [
    "# Define executable path and browser for splinter\n",
    "executable_path = {'executable_path':'/chromedriver/chromedriver.exe'}\n",
    "browser = Browser('chrome',**executable_path, headless=False)"
   ]
  },
  {
   "cell_type": "markdown",
   "metadata": {},
   "source": [
    "## NASA Mars News"
   ]
  },
  {
   "cell_type": "code",
   "execution_count": 3,
   "metadata": {},
   "outputs": [],
   "source": [
    "# URL of page to be scraped\n",
    "url = 'https://mars.nasa.gov/news/?page=0&per_page=40&order=publish_date+desc%2Ccreated_at+desc&search=&category=19%2C165%2C184%2C204&blank_scope=Latest'"
   ]
  },
  {
   "cell_type": "code",
   "execution_count": 4,
   "metadata": {},
   "outputs": [
    {
     "data": {
      "text/plain": [
       "True"
      ]
     },
     "execution_count": 4,
     "metadata": {},
     "output_type": "execute_result"
    }
   ],
   "source": [
    "# Get a handle on the URL with splinter using a wait_time to allow for all results to come through\n",
    "browser.visit(url)\n",
    "browser.is_element_present_by_css(\"ul.item_list li.slide\", wait_time=1)"
   ]
  },
  {
   "cell_type": "code",
   "execution_count": 5,
   "metadata": {},
   "outputs": [],
   "source": [
    "# Assign the splinter handle to an 'html' object and parse it with BeautifulSoup\n",
    "html = browser.html\n",
    "soup = bs(html,'lxml')"
   ]
  },
  {
   "cell_type": "code",
   "execution_count": 6,
   "metadata": {},
   "outputs": [
    {
     "name": "stdout",
     "output_type": "stream",
     "text": [
      "<div class=\"list_text\"><div class=\"list_date\">July 28, 2020</div><div class=\"content_title\"><a href=\"/news/8723/nasas-perseverance-rover-will-carry-first-spacesuit-materials-to-mars/\" target=\"_self\">NASA's Perseverance Rover Will Carry First Spacesuit Materials to Mars</a></div><div class=\"article_teaser_body\">In a Q&amp;A, spacesuit designer Amy Ross explains how five samples, including a piece of helmet visor, will be tested aboard the rover, which is targeting a July 30 launch. </div></div>\n"
     ]
    }
   ],
   "source": [
    "# Retrieve the most recent headlines in the page\n",
    "headlines = soup.find('div', class_='list_text')\n",
    "print(headlines)"
   ]
  },
  {
   "cell_type": "code",
   "execution_count": 7,
   "metadata": {},
   "outputs": [
    {
     "name": "stdout",
     "output_type": "stream",
     "text": [
      "Latest News:\n",
      "NASA's Perseverance Rover Will Carry First Spacesuit Materials to Mars\n",
      "In a Q&A, spacesuit designer Amy Ross explains how five samples, including a piece of helmet visor, will be tested aboard the rover, which is targeting a July 30 launch. \n"
     ]
    }
   ],
   "source": [
    "# Retrieve the most recent headline title and paragraph text\n",
    "news_title = headlines.find('div', class_='content_title').a.text\n",
    "news_p = headlines.find('div', class_='article_teaser_body').text\n",
    "print('Latest News:')\n",
    "print(news_title)\n",
    "print(news_p)"
   ]
  },
  {
   "cell_type": "markdown",
   "metadata": {},
   "source": [
    "## JPL Mars Space Images - Featured Images"
   ]
  },
  {
   "cell_type": "code",
   "execution_count": 8,
   "metadata": {},
   "outputs": [],
   "source": [
    "# URL of page to be scraped\n",
    "url_image = 'https://www.jpl.nasa.gov/spaceimages/?search=&category=Mars'"
   ]
  },
  {
   "cell_type": "code",
   "execution_count": 9,
   "metadata": {},
   "outputs": [
    {
     "data": {
      "text/plain": [
       "True"
      ]
     },
     "execution_count": 9,
     "metadata": {},
     "output_type": "execute_result"
    }
   ],
   "source": [
    "# Get a handle on the URL with splinter using a wait_time to allow for all results to come through\n",
    "browser.visit(url_image)\n",
    "browser.is_element_present_by_css(\"section.primary_media_feature\", wait_time=1)"
   ]
  },
  {
   "cell_type": "code",
   "execution_count": 10,
   "metadata": {},
   "outputs": [],
   "source": [
    "# Assign the splinter handle to an 'html' object and parse it with BeautifulSoup\n",
    "html_image = browser.html\n",
    "image_soup = bs(html_image,'lxml')"
   ]
  },
  {
   "cell_type": "code",
   "execution_count": 11,
   "metadata": {},
   "outputs": [
    {
     "name": "stdout",
     "output_type": "stream",
     "text": [
      "Featured image url: https://www.spaceimages/images/mediumsize/PIA16028_ip.jpg\n"
     ]
    }
   ],
   "source": [
    "# Retrieve the URL for the featured image\n",
    "featured_image_url =image_soup.find('footer').find('a', class_='button')['data-fancybox-href']\n",
    "featured_image_url = featured_image_url.strip('/')\n",
    "featured_image_url = f'https://www.{featured_image_url}'\n",
    "print(f'Featured image url: {featured_image_url}')"
   ]
  },
  {
   "cell_type": "markdown",
   "metadata": {},
   "source": [
    "## Mars Weather"
   ]
  },
  {
   "cell_type": "code",
   "execution_count": 12,
   "metadata": {},
   "outputs": [],
   "source": [
    "# URL of page to be scraped\n",
    "mars_twitter = 'https://twitter.com/marswxreport?lang=en'"
   ]
  },
  {
   "cell_type": "code",
   "execution_count": 13,
   "metadata": {},
   "outputs": [
    {
     "data": {
      "text/plain": [
       "True"
      ]
     },
     "execution_count": 13,
     "metadata": {},
     "output_type": "execute_result"
    }
   ],
   "source": [
    "# Get a handle on the URL with splinter using a wait_time to allow for all results to come through\n",
    "browser.visit(mars_twitter)\n",
    "browser.is_element_present_by_tag(\"span\", wait_time=2)"
   ]
  },
  {
   "cell_type": "code",
   "execution_count": 16,
   "metadata": {},
   "outputs": [],
   "source": [
    "# Assign the splinter handle to an 'html' object and parse it with BeautifulSoup\n",
    "html_twitter = browser.html\n",
    "twitter_soup = bs(html_twitter,'lxml')"
   ]
  },
  {
   "cell_type": "code",
   "execution_count": 17,
   "metadata": {},
   "outputs": [
    {
     "name": "stdout",
     "output_type": "stream",
     "text": [
      "Latest Twit About Mars Weather:\n",
      "InSight sol 593 (2020-07-27) low -91.8ºC (-133.2ºF) high -16.0ºC (3.3ºF)\n",
      "winds from the WNW at 6.5 m/s (14.4 mph) gusting to 18.8 m/s (42.1 mph)\n",
      "pressure at 7.90 hPa\n"
     ]
    }
   ],
   "source": [
    "# Retrieve the text from the most recent twit\n",
    "spans = twitter_soup.find_all('span')\n",
    "    \n",
    "mw_twits = []\n",
    "for span in spans:\n",
    "        \n",
    "    if (span.text and span.text.startswith('InSight')):\n",
    "        mw_twits.append(span.text)\n",
    "\n",
    "mars_weather = mw_twits[0]\n",
    "print('Latest Twit About Mars Weather:')\n",
    "print(mars_weather)\n",
    "browser.cookies.delete()  # deletes all cookies"
   ]
  },
  {
   "cell_type": "markdown",
   "metadata": {},
   "source": [
    "## Mars Facts"
   ]
  },
  {
   "cell_type": "code",
   "execution_count": null,
   "metadata": {},
   "outputs": [],
   "source": [
    "# URL of page to be scraped\n",
    "mars_facts = 'https://space-facts.com/mars/'"
   ]
  },
  {
   "cell_type": "code",
   "execution_count": null,
   "metadata": {},
   "outputs": [],
   "source": [
    "# Retrieve table data into pandas and convert into a dataframe\n",
    "scraped_tables = pd.read_html(mars_facts)"
   ]
  },
  {
   "cell_type": "code",
   "execution_count": null,
   "metadata": {},
   "outputs": [],
   "source": [
    "table = scraped_tables[0]\n",
    "table = table.rename(columns={0:\"\",1:'Value'})\n",
    "table"
   ]
  },
  {
   "cell_type": "code",
   "execution_count": null,
   "metadata": {},
   "outputs": [],
   "source": [
    "# Convert the data into a HTML string\n",
    "html_table_string = table.to_html(index=False)\n",
    "html_table_string"
   ]
  },
  {
   "cell_type": "markdown",
   "metadata": {},
   "source": [
    "## Mars Hemispheres"
   ]
  },
  {
   "cell_type": "code",
   "execution_count": null,
   "metadata": {},
   "outputs": [],
   "source": [
    "# URL of page to be scraped\n",
    "hem_urls = ['https://astrogeology.usgs.gov/search/map/Mars/Viking/cerberus_enhanced',\n",
    "        'https://astrogeology.usgs.gov/search/map/Mars/Viking/schiaparelli_enhanced',\n",
    "        'https://astrogeology.usgs.gov/search/map/Mars/Viking/syrtis_major_enhanced',\n",
    "        'https://astrogeology.usgs.gov/search/map/Mars/Viking/valles_marineris_enhanced']"
   ]
  },
  {
   "cell_type": "code",
   "execution_count": null,
   "metadata": {},
   "outputs": [],
   "source": [
    "# Retrieve image URLs and hemisphere name for each hemisphere and add them to a list\n",
    "hemisphere_image_urls = []\n",
    "\n",
    "for hem in hem_urls:\n",
    "    # Get a handle on the URL with splinter using a wait_time to allow for all results to come through\n",
    "    browser.visit(hem)\n",
    "    browser.is_element_present_by_css(\"dl dd\", wait_time=0.5)\n",
    "    \n",
    "    # Assign the splinter handle to an 'html' object and parse it with BeautifulSoup\n",
    "    hem_html = browser.html\n",
    "    hem_soup = bs(hem_html,'lxml')\n",
    "    \n",
    "    # Retrieve the image URL and hemisphere title\n",
    "    img_url = hem_soup.find('div', class_='content').a['href']\n",
    "    title = hem_soup.find('h2', class_='title').text\n",
    "    \n",
    "    # Modify the title to how only the name of the Hemisphere\n",
    "    title = title.replace('Enhanced',\"\")\n",
    "    \n",
    "    # Create a dictionary\n",
    "    dict_hem = {\"title\":title, \"img_url\": img_url}\n",
    "    \n",
    "    # Add the dictionary to the hemisphere_imare_urls list\n",
    "    hemisphere_image_urls.append(dict_hem)\n",
    "    \n",
    "print(hemisphere_image_urls)"
   ]
  },
  {
   "cell_type": "code",
   "execution_count": null,
   "metadata": {},
   "outputs": [],
   "source": []
  }
 ],
 "metadata": {
  "kernelspec": {
   "display_name": "Python [conda env:PythonData] *",
   "language": "python",
   "name": "conda-env-PythonData-py"
  },
  "language_info": {
   "codemirror_mode": {
    "name": "ipython",
    "version": 3
   },
   "file_extension": ".py",
   "mimetype": "text/x-python",
   "name": "python",
   "nbconvert_exporter": "python",
   "pygments_lexer": "ipython3",
   "version": "3.8.3"
  }
 },
 "nbformat": 4,
 "nbformat_minor": 4
}
